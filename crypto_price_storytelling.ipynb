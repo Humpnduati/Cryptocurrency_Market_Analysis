{
 "cells": [
  {
   "cell_type": "markdown",
   "id": "2bf4c54d",
   "metadata": {
    "editable": true,
    "slideshow": {
     "slide_type": ""
    },
    "tags": []
   },
   "source": [
    "\n",
    "# 📊 Cryptocurrency Price Analysis with Storytelling\n"
   ]
  },
  {
   "cell_type": "markdown",
   "id": "e6ccb185",
   "metadata": {},
   "source": [
    "\n",
    "## 🔄 Data Collection via CoinCommon adn CoinGecko API\n",
    "\n",
    "We fetch historical data for 200 cryptocurrency using CoinCompare Api and CoinGecko API for the past 30 days starting from Aug 7th 2025. The fields include:\n",
    "\n",
    "- Coin\n",
    "- Price (USD)\n",
    "- Market Cap\n",
    "- Volume\n",
    "- Circulating Supply\n",
    "- Timestamp\n",
    "- high\n",
    "- low\n",
    "- open\n",
    "- coingecko id\n"
   ]
  },
  {
   "cell_type": "code",
   "execution_count": 32,
   "id": "7a2b6e7c-5902-42b9-8cc5-2143d4e6a0ff",
   "metadata": {
    "collapsed": true,
    "jupyter": {
     "outputs_hidden": true,
     "source_hidden": true
    }
   },
   "outputs": [
    {
     "name": "stdout",
     "output_type": "stream",
     "text": [
      "✅ Loaded top 250 coins from CoinGecko\n"
     ]
    },
    {
     "name": "stderr",
     "output_type": "stream",
     "text": [
      "Scraping CryptoCompare:   1%|          | 2/250 [00:06<13:08,  3.18s/it]\n"
     ]
    },
    {
     "ename": "KeyboardInterrupt",
     "evalue": "",
     "output_type": "error",
     "traceback": [
      "\u001b[31m---------------------------------------------------------------------------\u001b[39m",
      "\u001b[31mKeyboardInterrupt\u001b[39m                         Traceback (most recent call last)",
      "\u001b[36mCell\u001b[39m\u001b[36m \u001b[39m\u001b[32mIn[32]\u001b[39m\u001b[32m, line 100\u001b[39m\n\u001b[32m     97\u001b[39m         \u001b[38;5;28mprint\u001b[39m(\u001b[33m\"\u001b[39m\u001b[33m❌ No data retrieved.\u001b[39m\u001b[33m\"\u001b[39m)\n\u001b[32m     99\u001b[39m \u001b[38;5;28;01mif\u001b[39;00m \u001b[34m__name__\u001b[39m == \u001b[33m\"\u001b[39m\u001b[33m__main__\u001b[39m\u001b[33m\"\u001b[39m:\n\u001b[32m--> \u001b[39m\u001b[32m100\u001b[39m     \u001b[43mmain\u001b[49m\u001b[43m(\u001b[49m\u001b[43m)\u001b[49m\n",
      "\u001b[36mCell\u001b[39m\u001b[36m \u001b[39m\u001b[32mIn[32]\u001b[39m\u001b[32m, line 90\u001b[39m, in \u001b[36mmain\u001b[39m\u001b[34m()\u001b[39m\n\u001b[32m     87\u001b[39m     cc_data[\u001b[33m'\u001b[39m\u001b[33mcoingecko_id\u001b[39m\u001b[33m'\u001b[39m] = coin_id\n\u001b[32m     89\u001b[39m     final_data.append(cc_data)\n\u001b[32m---> \u001b[39m\u001b[32m90\u001b[39m     \u001b[43mtime\u001b[49m\u001b[43m.\u001b[49m\u001b[43msleep\u001b[49m\u001b[43m(\u001b[49m\u001b[32;43m1.2\u001b[39;49m\u001b[43m)\u001b[49m\n\u001b[32m     92\u001b[39m \u001b[38;5;28;01mif\u001b[39;00m final_data:\n\u001b[32m     93\u001b[39m     df_final = pd.concat(final_data, ignore_index=\u001b[38;5;28;01mTrue\u001b[39;00m)\n",
      "\u001b[31mKeyboardInterrupt\u001b[39m: "
     ]
    }
   ],
   "source": [
    "import requests\n",
    "import pandas as pd\n",
    "import time\n",
    "from tqdm import tqdm\n",
    "\n",
    "# 🔑 Add your CryptoCompare API Key\n",
    "CRYPTOCOMPARE_API_KEY = '6a0c8d6eae56e53c0fac03c0bcd15dbb3025463f03e27a0e37bc285e145197f1'\n",
    "\n",
    "# Endpoints\n",
    "COINGECKO_MARKET_URL = \"https://api.coingecko.com/api/v3/coins/markets\"\n",
    "CRYPTOCOMPARE_URL = \"https://min-api.cryptocompare.com/data/v2/histohour\"\n",
    "\n",
    "# Step 1: Get top 250 coins from CoinGecko\n",
    "def get_top_250_coins():\n",
    "    params = {\n",
    "        'vs_currency': 'usd',\n",
    "        'order': 'market_cap_desc',\n",
    "        'per_page': 250,\n",
    "        'page': 1,\n",
    "        'sparkline': False\n",
    "    }\n",
    "    response = requests.get(COINGECKO_MARKET_URL, params=params)\n",
    "    response.raise_for_status()\n",
    "    coins = response.json()\n",
    "    coin_list = []\n",
    "    for coin in coins:\n",
    "        coin_list.append({\n",
    "            'id': coin['id'],\n",
    "            'symbol': coin['symbol'].upper(),\n",
    "            'name': coin['name'],\n",
    "            'market_cap': coin.get('market_cap'),\n",
    "            'circulating_supply': coin.get('circulating_supply')\n",
    "        })\n",
    "    return pd.DataFrame(coin_list)\n",
    "\n",
    "# Step 2: Get 30 days (720 hours) of hourly data from CryptoCompare\n",
    "def get_cryptocompare_data(symbol, target='USD', hours=720):\n",
    "    params = {\n",
    "        'fsym': symbol,\n",
    "        'tsym': target,\n",
    "        'limit': hours,\n",
    "        'aggregate': 1,\n",
    "        'api_key': CRYPTOCOMPARE_API_KEY\n",
    "    }\n",
    "    response = requests.get(CRYPTOCOMPARE_URL, params=params)\n",
    "    if response.status_code != 200:\n",
    "        return None\n",
    "\n",
    "    data = response.json()\n",
    "    if data['Response'] != 'Success':\n",
    "        return None\n",
    "\n",
    "    df = pd.DataFrame(data['Data']['Data'])\n",
    "    df['timestamp'] = pd.to_datetime(df['time'], unit='s')\n",
    "    df['coin'] = symbol\n",
    "    df.rename(columns={\n",
    "        'volumeto': 'volume',\n",
    "        'close': 'price',\n",
    "        'high': 'high',\n",
    "        'low': 'low',\n",
    "        'open': 'open'\n",
    "    }, inplace=True)\n",
    "    return df[['timestamp', 'coin', 'price', 'volume', 'high', 'low', 'open']]\n",
    "\n",
    "# Step 3: Merge data sources\n",
    "def main():\n",
    "    gecko_df = get_top_250_coins()\n",
    "    print(f\"✅ Loaded top {len(gecko_df)} coins from CoinGecko\")\n",
    "\n",
    "    final_data = []\n",
    "\n",
    "    for _, row in tqdm(gecko_df.iterrows(), total=len(gecko_df), desc=\"Scraping CryptoCompare\"):\n",
    "        symbol = row['symbol']\n",
    "        coin_id = row['id']\n",
    "        market_cap = row['market_cap']\n",
    "        circ_supply = row['circulating_supply']\n",
    "\n",
    "        cc_data = get_cryptocompare_data(symbol)\n",
    "        if cc_data is None:\n",
    "            print(f\"[!] Skipping {symbol} (missing data)\")\n",
    "            continue\n",
    "\n",
    "        cc_data['market_cap'] = market_cap\n",
    "        cc_data['circulating_supply'] = circ_supply\n",
    "        cc_data['coingecko_id'] = coin_id\n",
    "\n",
    "        final_data.append(cc_data)\n",
    "        time.sleep(1.2)\n",
    "\n",
    "    if final_data:\n",
    "        df_final = pd.concat(final_data, ignore_index=True)\n",
    "        df_final.to_csv(\"integrated_crypto_data.csv\", index=False)\n",
    "        print(f\"✅ Combined data saved to 'integrated_crypto_data.csv'\")\n",
    "    else:\n",
    "        print(\"❌ No data retrieved.\")\n",
    "\n",
    "if __name__ == \"__main__\":\n",
    "    main()\n"
   ]
  },
  {
   "cell_type": "markdown",
   "id": "9740d8de",
   "metadata": {},
   "source": [
    "\n",
    "\n",
    "## 📥 Load and Preview Dataset\n",
    "\n",
    "We load the previously scraped data (`inergrated_crypto_data.csv`) and begin initial preprocessing.\n"
   ]
  },
  {
   "cell_type": "code",
   "execution_count": 31,
   "id": "db3250e0-e9a2-4168-a5ee-c4273622ac77",
   "metadata": {},
   "outputs": [],
   "source": [
    "import numpy as np\n",
    "import pandas as pd\n",
    "from scipy.stats import pearsonr, spearmanr\n",
    "import matplotlib.pyplot as plt\n",
    "import seaborn as sns\n",
    "import os"
   ]
  },
  {
   "cell_type": "code",
   "execution_count": 32,
   "id": "82cf360d-e36e-4ead-8280-81b123cde6a3",
   "metadata": {},
   "outputs": [
    {
     "name": "stdout",
     "output_type": "stream",
     "text": [
      "Loaded dataframe with rows: 144200\n",
      "Loaded dataframe with columns: 10\n"
     ]
    }
   ],
   "source": [
    "df = pd.read_csv('integrated_crypto_data.csv', parse_dates = ['timestamp'])\n",
    "\n",
    "print('Loaded dataframe with rows: ' + str(df.shape[0]))\n",
    "print('Loaded dataframe with columns: ' + str(df.shape[1]))"
   ]
  },
  {
   "cell_type": "code",
   "execution_count": 33,
   "id": "bb9cf687-719d-4b48-8528-f3da62a20a24",
   "metadata": {},
   "outputs": [
    {
     "name": "stdout",
     "output_type": "stream",
     "text": [
      "Created folders at: ./outputs\n",
      "CSV output folder: ./outputs/csvs\n",
      "Plots root folder: ./outputs/plots\n"
     ]
    }
   ],
   "source": [
    "# Prepare output folders\n",
    "base_out = './outputs'\n",
    "csv_out = os.path.join(base_out, 'csvs')\n",
    "plots_out = os.path.join(base_out, 'plots')\n",
    "question_folders = {\n",
    "    'intraday_ranges': os.path.join(plots_out, '01_intraday_ranges'),\n",
    "    'event_impact': os.path.join(plots_out, '02_event_impact'),\n",
    "    'rolling_volatility': os.path.join(plots_out, '03_rolling_volatility'),\n",
    "    'volume_vs_volatility': os.path.join(plots_out, '04_volume_vs_volatility'),\n",
    "    'drawdown_analysis': os.path.join(plots_out, '05_drawdown_analysis')\n",
    "}\n",
    "\n",
    "os.makedirs(csv_out, exist_ok = True)\n",
    "os.makedirs(plots_out, exist_ok = True)\n",
    "for k, v in question_folders.items():\n",
    "    os.makedirs(v, exist_ok = True)\n",
    "\n",
    "print('Created folders at: ' + base_out)\n",
    "print('CSV output folder: ' + csv_out)\n",
    "print('Plots root folder: ' + plots_out)"
   ]
  },
  {
   "cell_type": "markdown",
   "id": "c3277b9d",
   "metadata": {},
   "source": [
    "\n",
    "## 🧹 Data Cleaning\n",
    "\n",
    "Let’s ensure numeric types, handle missing or infinite values, normalizing column names and ensure the dataset is analysis-ready."
   ]
  },
  {
   "cell_type": "code",
   "execution_count": 45,
   "id": "b2e8189a-0572-4cf4-9553-0558b43b1b11",
   "metadata": {},
   "outputs": [
    {
     "name": "stdout",
     "output_type": "stream",
     "text": [
      "Rows before cleaning:\n",
      "144200\n",
      "Rows after cleaning:\n",
      "144200\n",
      "Mapped price to close column\n"
     ]
    }
   ],
   "source": [
    "# Basic cleaning\n",
    "\n",
    "# Ensure numeric types\n",
    "cols_num = ['price', 'volume', 'high', 'low', 'open', 'market_cap', 'circulating_supply']\n",
    "for c in cols_num:\n",
    "    df[c] = pd.to_numeric(df[c], errors = 'coerce')\n",
    "\n",
    "# Drop rows missing critical values\n",
    "before_rows = df.shape[0]\n",
    "df = df.dropna(subset = ['timestamp', 'coin', 'price'])\n",
    "after_rows = df.shape[0]\n",
    "print('Rows before cleaning:')\n",
    "print(before_rows)\n",
    "print('Rows after cleaning:')\n",
    "print(after_rows)\n",
    "\n",
    "# Add useful columns\n",
    "df = df.sort_values('timestamp')\n",
    "df['hour'] = df['timestamp'].dt.hour\n",
    "\n",
    "def session_label(hour):\n",
    "    if hour >= 0 and hour < 8:\n",
    "        return 'Asian'\n",
    "    elif hour >= 8 and hour < 16:\n",
    "        return 'European'\n",
    "    else:\n",
    "        return 'US'\n",
    "\n",
    "df['session'] = df['hour'].apply(session_label)\n",
    "\n",
    "# hourly range (high - low)\n",
    "df['hourly_range'] = df['high'] - df['low']\n",
    "\n",
    "# Normalize column names: use 'price' as close if 'close' missing\n",
    "if 'close' not in df.columns and 'price' in df.columns:\n",
    "    df['close'] = df['price']\n",
    "    print('Mapped price to close column')"
   ]
  },
  {
   "cell_type": "markdown",
   "id": "41aa7527",
   "metadata": {},
   "source": [
    "\n",
    "# 📈 Temporal and Volatility Data Analysis\n",
    "\n",
    "Now we explore Temporal and Volatility analysis across the crptocurrency market begining from 2025-07-08 to 2025-08-07."
   ]
  },
  {
   "cell_type": "markdown",
   "id": "26ad043f-234f-46fd-954b-e0a49b9f4f8e",
   "metadata": {},
   "source": [
    "## 1. Intraday Pattern Analysis\n",
    "For each coin, what were the average hourly price ranges (high-low) during Asian (00:00-08:00 UTC), European (08:00-16:00 UTC), and US (16:00-24:00 UTC) trading sessions?"
   ]
  },
  {
   "cell_type": "code",
   "execution_count": 46,
   "id": "dbb09658-0ca7-40af-9085-690c6ce1594c",
   "metadata": {
    "jupyter": {
     "source_hidden": true
    }
   },
   "outputs": [
    {
     "name": "stdout",
     "output_type": "stream",
     "text": [
      "./outputs/csvs/avg_hourly_ranges_by_coin_hour.csv\n",
      "./outputs/plots/01_intraday_ranges/WETH_avg_hourly_range.png\n",
      "./outputs/plots/01_intraday_ranges/USDT_avg_hourly_range.png\n",
      "./outputs/plots/01_intraday_ranges/WBTC_avg_hourly_range.png\n",
      "./outputs/plots/01_intraday_ranges/DAI_avg_hourly_range.png\n",
      "./outputs/plots/01_intraday_ranges/DOGE_avg_hourly_range.png\n",
      "./outputs/plots/01_intraday_ranges/USDC_avg_hourly_range.png\n",
      "./outputs/plots/01_intraday_ranges/ENS_avg_hourly_range.png\n",
      "./outputs/plots/01_intraday_ranges/TURBO_avg_hourly_range.png\n",
      "./outputs/plots/01_intraday_ranges/DRIFT_avg_hourly_range.png\n",
      "./outputs/plots/01_intraday_ranges/VIRTUAL_avg_hourly_range.png\n",
      "./outputs/plots/01_intraday_ranges/BTC_avg_hourly_range.png\n",
      "./outputs/plots/01_intraday_ranges/KAVA_avg_hourly_range.png\n",
      "./outputs/plots/01_intraday_ranges/LDO_avg_hourly_range.png\n",
      "./outputs/plots/01_intraday_ranges/S_avg_hourly_range.png\n",
      "./outputs/plots/01_intraday_ranges/EGLD_avg_hourly_range.png\n",
      "./outputs/plots/01_intraday_ranges/WIF_avg_hourly_range.png\n",
      "./outputs/plots/01_intraday_ranges/CMETH_avg_hourly_range.png\n",
      "./outputs/plots/01_intraday_ranges/AAVE_avg_hourly_range.png\n",
      "./outputs/plots/01_intraday_ranges/FLOKI_avg_hourly_range.png\n",
      "./outputs/plots/01_intraday_ranges/USDY_avg_hourly_range.png\n"
     ]
    }
   ],
   "source": [
    "# 1) Average hourly price ranges by coin and hour (intraday ranges)\n",
    "\n",
    "if 'high' in df.columns and 'low' in df.columns:\n",
    "    df['hour'] = df['timestamp'].dt.hour\n",
    "    df['hourly_range'] = df['high'] - df['low']\n",
    "    avg_ranges = df.groupby(['coin', 'hour'])['hourly_range'].mean().reset_index()\n",
    "    csv1 = os.path.join(csv_out, 'avg_hourly_ranges_by_coin_hour.csv')\n",
    "    avg_ranges.to_csv(csv1, index = False)\n",
    "    print(csv1)\n",
    "    \n",
    "    # Save plots for top coins by data count (limit to 20)\n",
    "    \n",
    "    top_coins = df['coin'].value_counts().head(20).index.tolist()\n",
    "    for coin in top_coins:\n",
    "        sub = avg_ranges[avg_ranges['coin'] == coin]\n",
    "        plt.figure(figsize = (8,4))\n",
    "        plt.plot(sub['hour'], sub['hourly_range'], marker = 'o')\n",
    "        plt.title(coin + ' average hourly range')\n",
    "        plt.xlabel('hour')\n",
    "        plt.ylabel('avg hourly range')\n",
    "        plt.grid(True)\n",
    "        plotp = os.path.join(question_folders['intraday_ranges'], coin + '_avg_hourly_range.png')\n",
    "        plt.savefig(plotp, bbox_inches = 'tight')\n",
    "        plt.close()\n",
    "        print(plotp)\n",
    "else:\n",
    "    print('Missing high/low columns; skipping intraday ranges')"
   ]
  },
  {
   "cell_type": "markdown",
   "id": "4ae7cd9f-8dbe-4d14-9dbb-8f84d9173fa3",
   "metadata": {},
   "source": [
    "## 2. Event Impact Assessment: \n",
    "Quantify price/volume reactions to major events"
   ]
  },
  {
   "cell_type": "code",
   "execution_count": 57,
   "id": "11286c5a-f701-4dc2-a353-eb6a8e45d9be",
   "metadata": {
    "jupyter": {
     "source_hidden": true
    }
   },
   "outputs": [
    {
     "name": "stdout",
     "output_type": "stream",
     "text": [
      "./outputs/csvs/event_impact_records_top1pct.csv\n",
      "./outputs/plots/02_event_impact/hourly_returns_dist_threshold.png\n"
     ]
    }
   ],
   "source": [
    "if 'close' in df.columns:\n",
    "    df_sorted = df.sort_values(['coin', 'timestamp']).copy()\n",
    "    df_sorted['prev_close'] = df_sorted.groupby('coin')['close'].shift(1)\n",
    "    df_sorted['hourly_ret'] = (df_sorted['close'] - df_sorted['prev_close']) / df_sorted['prev_close']\n",
    "    df_sorted = df_sorted.replace([np.inf, -np.inf], np.nan).dropna(subset = ['hourly_ret'])\n",
    "    if not df_sorted['hourly_ret'].empty:\n",
    "        threshold = df_sorted['hourly_ret'].abs().quantile(0.99)\n",
    "        events = df_sorted[df_sorted['hourly_ret'].abs() >= threshold].copy()\n",
    "        csv2 = os.path.join(csv_out, 'event_impact_records_top1pct.csv')\n",
    "        events.to_csv(csv2, index = False)\n",
    "        print(csv2)\n",
    "        \n",
    "        # save distribution plot with threshold markers\n",
    "        \n",
    "        plt.figure(figsize = (8,4))\n",
    "        sns.histplot(df_sorted['hourly_ret'].dropna(), bins = 100, kde = False)\n",
    "        plt.axvline(-threshold, color = 'red')\n",
    "        plt.axvline(threshold, color = 'red')\n",
    "        plt.title('Hourly returns distribution with top 1% threshold')\n",
    "        p2 = os.path.join(question_folders['event_impact'], 'hourly_returns_dist_threshold.png')\n",
    "        plt.savefig(p2, bbox_inches = 'tight')\n",
    "        plt.close()\n",
    "        print(p2)\n",
    "    else:\n",
    "        print('No hourly returns computed; event impact skipped')\n",
    "else:\n",
    "    print('Missing close column; skipping event impact')"
   ]
  },
  {
   "cell_type": "markdown",
   "id": "f9628ce2-c799-4cee-a625-fbc5a0b60d6c",
   "metadata": {},
   "source": [
    "## 3. Rolling Volatility Comparison:\n",
    "Compare 7-day rolling volatility (standard deviation of daily returns). Which asset showed higher instability?"
   ]
  },
  {
   "cell_type": "code",
   "execution_count": 50,
   "id": "bfb40bae-7ab5-4374-b782-a4a38bae83cb",
   "metadata": {
    "jupyter": {
     "source_hidden": true
    }
   },
   "outputs": [
    {
     "name": "stdout",
     "output_type": "stream",
     "text": [
      "./outputs/csvs/rolling_vol_7d_by_coin.csv\n",
      "./outputs/plots/03_rolling_volatility/1INCH_vol7d.png\n",
      "./outputs/plots/03_rolling_volatility/A_vol7d.png\n",
      "./outputs/plots/03_rolling_volatility/AAVE_vol7d.png\n",
      "./outputs/plots/03_rolling_volatility/AB_vol7d.png\n",
      "./outputs/plots/03_rolling_volatility/ADA_vol7d.png\n",
      "./outputs/plots/03_rolling_volatility/AERO_vol7d.png\n",
      "./outputs/plots/03_rolling_volatility/AIOZ_vol7d.png\n",
      "./outputs/plots/03_rolling_volatility/AKT_vol7d.png\n",
      "./outputs/plots/03_rolling_volatility/ALGO_vol7d.png\n",
      "./outputs/plots/03_rolling_volatility/AMP_vol7d.png\n",
      "./outputs/plots/03_rolling_volatility/APE_vol7d.png\n",
      "./outputs/plots/03_rolling_volatility/APT_vol7d.png\n",
      "./outputs/plots/03_rolling_volatility/AR_vol7d.png\n",
      "./outputs/plots/03_rolling_volatility/ARB_vol7d.png\n",
      "./outputs/plots/03_rolling_volatility/ATH_vol7d.png\n",
      "./outputs/plots/03_rolling_volatility/ATOM_vol7d.png\n",
      "./outputs/plots/03_rolling_volatility/AVAX_vol7d.png\n",
      "./outputs/plots/03_rolling_volatility/AXL_vol7d.png\n",
      "./outputs/plots/03_rolling_volatility/AXS_vol7d.png\n",
      "./outputs/plots/03_rolling_volatility/B_vol7d.png\n"
     ]
    }
   ],
   "source": [
    "if 'close' in df.columns:\n",
    "    \n",
    "    # Resample to daily close per coin\n",
    "    df_daily = df.set_index('timestamp').groupby('coin').resample('1D')['close'].last().reset_index()\n",
    "    df_daily = df_daily.sort_values(['coin', 'timestamp']).reset_index(drop = True)\n",
    "    df_daily['daily_ret'] = df_daily.groupby('coin')['close'].pct_change()\n",
    "    \n",
    "    # 7-day rolling volatility (std of daily returns); min_periods set to 3 to allow early values\n",
    "  \n",
    "    df_daily['vol_7d'] = df_daily.groupby('coin')['daily_ret'].rolling(window = 7, min_periods = 3).std().reset_index(level = 0, drop = True)\n",
    "    csv3 = os.path.join(csv_out, 'rolling_vol_7d_by_coin.csv')\n",
    "    df_daily.to_csv(csv3, index = False)\n",
    "    print(csv3)\n",
    "    \n",
    "    \n",
    "    # Plot sample coins (up to 20)\n",
    "    sample_coins = df_daily['coin'].dropna().unique()[:20]\n",
    "    for coin in sample_coins:\n",
    "        s = df_daily[df_daily['coin'] == coin]\n",
    "        plt.figure(figsize = (10,3))\n",
    "        plt.plot(s['timestamp'], s['vol_7d'])\n",
    "        plt.title(coin + ' 7-day rolling volatility')\n",
    "        plt.xlabel('date')\n",
    "        plt.ylabel('vol 7d')\n",
    "        plt.grid(True)\n",
    "        p3 = os.path.join(question_folders['rolling_volatility'], coin + '_vol7d.png')\n",
    "        plt.savefig(p3, bbox_inches = 'tight')\n",
    "        plt.close()\n",
    "        print(p3)\n",
    "else:\n",
    "    print('Missing close column; skipping rolling volatility')"
   ]
  },
  {
   "cell_type": "markdown",
   "id": "1b162f82-1be1-4c26-bc90-a5d49a07a3f6",
   "metadata": {},
   "source": [
    "## 4. Volume-Volatility Relationship\n",
    "Is there a statistically significant correlation (Pearson/Spearman) between hourly trading volume and absolute price changes for each coin?"
   ]
  },
  {
   "cell_type": "code",
   "execution_count": 53,
   "id": "8797a549-d2c7-4153-8cdd-adba0b049792",
   "metadata": {
    "collapsed": true,
    "jupyter": {
     "outputs_hidden": true,
     "source_hidden": true
    }
   },
   "outputs": [
    {
     "name": "stderr",
     "output_type": "stream",
     "text": [
      "/home/humpnduati/DATA_SCIENCE/25e---PyData/myenv/lib/python3.13/site-packages/numpy/lib/_function_base_impl.py:3065: RuntimeWarning: invalid value encountered in divide\n",
      "  c /= stddev[:, None]\n",
      "/home/humpnduati/DATA_SCIENCE/25e---PyData/myenv/lib/python3.13/site-packages/numpy/lib/_function_base_impl.py:3066: RuntimeWarning: invalid value encountered in divide\n",
      "  c /= stddev[None, :]\n",
      "/home/humpnduati/DATA_SCIENCE/25e---PyData/myenv/lib/python3.13/site-packages/pandas/core/nanops.py:1632: ConstantInputWarning: An input array is constant; the correlation coefficient is not defined.\n",
      "  return spearmanr(a, b)[0]\n"
     ]
    },
    {
     "name": "stdout",
     "output_type": "stream",
     "text": [
      "./outputs/csvs/volume_volatility_correlation.csv\n",
      "./outputs/plots/04_volume_vs_volatility/volume_vs_volatility_pearson.png\n"
     ]
    }
   ],
   "source": [
    "# Ensure df_sorted is present and we have volume\n",
    "if 'volume' in df.columns:\n",
    "    \n",
    "    if 'hourly_ret' in df_sorted.columns:\n",
    "        df_sorted = df_sorted.dropna(subset = ['hourly_ret', 'volume'])\n",
    "        df_sorted['abs_hourly_ret'] = df_sorted['hourly_ret'].abs()\n",
    "        corrs = []\n",
    "        for coin in df_sorted['coin'].unique():\n",
    "            sub = df_sorted[df_sorted['coin'] == coin]\n",
    "            if sub['volume'].count() > 10 and sub['abs_hourly_ret'].count() > 10:\n",
    "                pear = sub['volume'].corr(sub['abs_hourly_ret'])\n",
    "                spea = sub['volume'].corr(sub['abs_hourly_ret'], method = 'spearman')\n",
    "                corrs.append({'coin': coin, 'pearson': pear, 'spearman': spea})\n",
    "        corr_df = pd.DataFrame(corrs)\n",
    "        csv4 = os.path.join(csv_out, 'volume_volatility_correlation.csv')\n",
    "        corr_df.to_csv(csv4, index = False)\n",
    "        print(csv4)\n",
    "        \n",
    "        # bar plot for Pearson correlations (if any)\n",
    "        \n",
    "        if not corr_df.empty:\n",
    "            plt.figure(figsize=(10,4))\n",
    "            sns.barplot(data = corr_df.sort_values('pearson', ascending = False), x = 'coin', y = 'pearson')\n",
    "            plt.title('Pearson corr between volume and abs hourly ret')\n",
    "            plt.xticks(rotation = 45)\n",
    "            p4 = os.path.join(question_folders['volume_vs_volatility'], 'volume_vs_volatility_pearson.png')\n",
    "            plt.savefig(p4, bbox_inches = 'tight')\n",
    "            plt.close()\n",
    "            print(p4)\n",
    "    else:\n",
    "        print('No hourly returns available; skipping volume-volatility')\n",
    "else:\n",
    "    print('Missing volume column; skipping volume-volatility')"
   ]
  },
  {
   "cell_type": "markdown",
   "id": "cce06866-dc93-49a8-a128-7e9c122684b1",
   "metadata": {},
   "source": [
    "## 5.Drawdown Analysis:\n",
    "Calculate maximum drawdowns:"
   ]
  },
  {
   "cell_type": "code",
   "execution_count": 55,
   "id": "29271c6d-8a23-46ea-ae24-f416fd6cdbbb",
   "metadata": {
    "jupyter": {
     "source_hidden": true
    }
   },
   "outputs": [
    {
     "name": "stdout",
     "output_type": "stream",
     "text": [
      "./outputs/csvs/max_drawdowns_by_coin.csv\n",
      "./outputs/plots/05_drawdown_analysis/TKX_drawdown.png\n",
      "./outputs/plots/05_drawdown_analysis/PUMP_drawdown.png\n",
      "./outputs/plots/05_drawdown_analysis/FARTCOIN_drawdown.png\n",
      "./outputs/plots/05_drawdown_analysis/POPCAT_drawdown.png\n",
      "./outputs/plots/05_drawdown_analysis/VIRTUAL_drawdown.png\n",
      "./outputs/plots/05_drawdown_analysis/MOG_drawdown.png\n",
      "./outputs/plots/05_drawdown_analysis/BONK_drawdown.png\n",
      "./outputs/plots/05_drawdown_analysis/DEEP_drawdown.png\n",
      "./outputs/plots/05_drawdown_analysis/WEMIX_drawdown.png\n",
      "./outputs/plots/05_drawdown_analysis/CVX_drawdown.png\n",
      "./outputs/plots/05_drawdown_analysis/TEL_drawdown.png\n",
      "./outputs/plots/05_drawdown_analysis/MOVE_drawdown.png\n",
      "./outputs/plots/05_drawdown_analysis/WLD_drawdown.png\n",
      "./outputs/plots/05_drawdown_analysis/WIF_drawdown.png\n",
      "./outputs/plots/05_drawdown_analysis/TURBO_drawdown.png\n",
      "./outputs/plots/05_drawdown_analysis/FLOKI_drawdown.png\n",
      "./outputs/plots/05_drawdown_analysis/BEAM_drawdown.png\n",
      "./outputs/plots/05_drawdown_analysis/PI_drawdown.png\n",
      "./outputs/plots/05_drawdown_analysis/1INCH_drawdown.png\n",
      "./outputs/plots/05_drawdown_analysis/HNT_drawdown.png\n",
      "./outputs/plots/05_drawdown_analysis/AIOZ_drawdown.png\n",
      "./outputs/plots/05_drawdown_analysis/XTZ_drawdown.png\n",
      "./outputs/plots/05_drawdown_analysis/ETHFI_drawdown.png\n",
      "./outputs/plots/05_drawdown_analysis/JUP_drawdown.png\n",
      "./outputs/plots/05_drawdown_analysis/EIGEN_drawdown.png\n",
      "./outputs/plots/05_drawdown_analysis/SPX_drawdown.png\n",
      "./outputs/plots/05_drawdown_analysis/DOGE_drawdown.png\n",
      "./outputs/plots/05_drawdown_analysis/SYRUP_drawdown.png\n",
      "./outputs/plots/05_drawdown_analysis/XCN_drawdown.png\n",
      "./outputs/plots/05_drawdown_analysis/S_drawdown.png\n",
      "./outputs/plots/05_drawdown_analysis/DRIFT_drawdown.png\n",
      "./outputs/plots/05_drawdown_analysis/TIA_drawdown.png\n",
      "./outputs/plots/05_drawdown_analysis/ALGO_drawdown.png\n",
      "./outputs/plots/05_drawdown_analysis/PEPE_drawdown.png\n",
      "./outputs/plots/05_drawdown_analysis/LDO_drawdown.png\n",
      "./outputs/plots/05_drawdown_analysis/AR_drawdown.png\n",
      "./outputs/plots/05_drawdown_analysis/BRETT_drawdown.png\n",
      "./outputs/plots/05_drawdown_analysis/GALA_drawdown.png\n",
      "./outputs/plots/05_drawdown_analysis/KAS_drawdown.png\n",
      "./outputs/plots/05_drawdown_analysis/JASMY_drawdown.png\n",
      "./outputs/plots/05_drawdown_analysis/PYTH_drawdown.png\n",
      "./outputs/plots/05_drawdown_analysis/RAY_drawdown.png\n",
      "./outputs/plots/05_drawdown_analysis/STRK_drawdown.png\n",
      "./outputs/plots/05_drawdown_analysis/RSR_drawdown.png\n",
      "./outputs/plots/05_drawdown_analysis/SEI_drawdown.png\n",
      "./outputs/plots/05_drawdown_analysis/AXL_drawdown.png\n",
      "./outputs/plots/05_drawdown_analysis/RUNE_drawdown.png\n",
      "./outputs/plots/05_drawdown_analysis/FET_drawdown.png\n",
      "./outputs/plots/05_drawdown_analysis/W_drawdown.png\n",
      "./outputs/plots/05_drawdown_analysis/JTO_drawdown.png\n",
      "./outputs/plots/05_drawdown_analysis/MORPHO_drawdown.png\n",
      "./outputs/plots/05_drawdown_analysis/XLM_drawdown.png\n",
      "./outputs/plots/05_drawdown_analysis/TAO_drawdown.png\n",
      "./outputs/plots/05_drawdown_analysis/STX_drawdown.png\n",
      "./outputs/plots/05_drawdown_analysis/AKT_drawdown.png\n",
      "./outputs/plots/05_drawdown_analysis/APE_drawdown.png\n",
      "./outputs/plots/05_drawdown_analysis/RENDER_drawdown.png\n",
      "./outputs/plots/05_drawdown_analysis/IMX_drawdown.png\n",
      "./outputs/plots/05_drawdown_analysis/SAND_drawdown.png\n",
      "./outputs/plots/05_drawdown_analysis/THETA_drawdown.png\n",
      "./outputs/plots/05_drawdown_analysis/AXS_drawdown.png\n",
      "./outputs/plots/05_drawdown_analysis/HYPE_drawdown.png\n",
      "./outputs/plots/05_drawdown_analysis/POL_drawdown.png\n",
      "./outputs/plots/05_drawdown_analysis/MATIC_drawdown.png\n",
      "./outputs/plots/05_drawdown_analysis/AERO_drawdown.png\n",
      "./outputs/plots/05_drawdown_analysis/MANA_drawdown.png\n",
      "./outputs/plots/05_drawdown_analysis/NEO_drawdown.png\n",
      "./outputs/plots/05_drawdown_analysis/APT_drawdown.png\n",
      "./outputs/plots/05_drawdown_analysis/CORE_drawdown.png\n",
      "./outputs/plots/05_drawdown_analysis/EGLD_drawdown.png\n",
      "./outputs/plots/05_drawdown_analysis/DYDX_drawdown.png\n",
      "./outputs/plots/05_drawdown_analysis/ARB_drawdown.png\n",
      "./outputs/plots/05_drawdown_analysis/GNO_drawdown.png\n",
      "./outputs/plots/05_drawdown_analysis/WAL_drawdown.png\n",
      "./outputs/plots/05_drawdown_analysis/AAVE_drawdown.png\n",
      "./outputs/plots/05_drawdown_analysis/SHIB_drawdown.png\n",
      "./outputs/plots/05_drawdown_analysis/GRT_drawdown.png\n",
      "./outputs/plots/05_drawdown_analysis/ONDO_drawdown.png\n",
      "./outputs/plots/05_drawdown_analysis/PENDLE_drawdown.png\n",
      "./outputs/plots/05_drawdown_analysis/TRUMP_drawdown.png\n",
      "./outputs/plots/05_drawdown_analysis/KAIA_drawdown.png\n",
      "./outputs/plots/05_drawdown_analysis/ZK_drawdown.png\n",
      "./outputs/plots/05_drawdown_analysis/MSOL_drawdown.png\n",
      "./outputs/plots/05_drawdown_analysis/CFX_drawdown.png\n",
      "./outputs/plots/05_drawdown_analysis/SOL_drawdown.png\n",
      "./outputs/plots/05_drawdown_analysis/DOT_drawdown.png\n",
      "./outputs/plots/05_drawdown_analysis/SUI_drawdown.png\n",
      "./outputs/plots/05_drawdown_analysis/PENGU_drawdown.png\n",
      "./outputs/plots/05_drawdown_analysis/BBSOL_drawdown.png\n",
      "./outputs/plots/05_drawdown_analysis/ADA_drawdown.png\n",
      "./outputs/plots/05_drawdown_analysis/BNSOL_drawdown.png\n",
      "./outputs/plots/05_drawdown_analysis/ZEC_drawdown.png\n",
      "./outputs/plots/05_drawdown_analysis/NEAR_drawdown.png\n",
      "./outputs/plots/05_drawdown_analysis/FIL_drawdown.png\n",
      "./outputs/plots/05_drawdown_analysis/VENOM_drawdown.png\n",
      "./outputs/plots/05_drawdown_analysis/ETC_drawdown.png\n",
      "./outputs/plots/05_drawdown_analysis/EOS_drawdown.png\n",
      "./outputs/plots/05_drawdown_analysis/ENA_drawdown.png\n",
      "./outputs/plots/05_drawdown_analysis/B_drawdown.png\n",
      "./outputs/plots/05_drawdown_analysis/XRP_drawdown.png\n",
      "./outputs/plots/05_drawdown_analysis/CTC_drawdown.png\n",
      "./outputs/plots/05_drawdown_analysis/SUPER_drawdown.png\n",
      "./outputs/plots/05_drawdown_analysis/FLOW_drawdown.png\n",
      "./outputs/plots/05_drawdown_analysis/A_drawdown.png\n",
      "./outputs/plots/05_drawdown_analysis/VET_drawdown.png\n",
      "./outputs/plots/05_drawdown_analysis/JITOSOL_drawdown.png\n",
      "./outputs/plots/05_drawdown_analysis/OP_drawdown.png\n",
      "./outputs/plots/05_drawdown_analysis/SKY_drawdown.png\n",
      "./outputs/plots/05_drawdown_analysis/CRV_drawdown.png\n",
      "./outputs/plots/05_drawdown_analysis/ENS_drawdown.png\n",
      "./outputs/plots/05_drawdown_analysis/INJ_drawdown.png\n",
      "./outputs/plots/05_drawdown_analysis/ATH_drawdown.png\n",
      "./outputs/plots/05_drawdown_analysis/ATOM_drawdown.png\n",
      "./outputs/plots/05_drawdown_analysis/HBAR_drawdown.png\n",
      "./outputs/plots/05_drawdown_analysis/QNT_drawdown.png\n",
      "./outputs/plots/05_drawdown_analysis/USDS_drawdown.png\n",
      "./outputs/plots/05_drawdown_analysis/LINK_drawdown.png\n",
      "./outputs/plots/05_drawdown_analysis/UNI_drawdown.png\n",
      "./outputs/plots/05_drawdown_analysis/AVAX_drawdown.png\n",
      "./outputs/plots/05_drawdown_analysis/AMP_drawdown.png\n",
      "./outputs/plots/05_drawdown_analysis/CHZ_drawdown.png\n",
      "./outputs/plots/05_drawdown_analysis/ICP_drawdown.png\n",
      "./outputs/plots/05_drawdown_analysis/BSV_drawdown.png\n",
      "./outputs/plots/05_drawdown_analysis/ZBCN_drawdown.png\n",
      "./outputs/plots/05_drawdown_analysis/LUNC_drawdown.png\n",
      "./outputs/plots/05_drawdown_analysis/JST_drawdown.png\n",
      "./outputs/plots/05_drawdown_analysis/CAKE_drawdown.png\n",
      "./outputs/plots/05_drawdown_analysis/COMP_drawdown.png\n",
      "./outputs/plots/05_drawdown_analysis/XMR_drawdown.png\n",
      "./outputs/plots/05_drawdown_analysis/REKT_drawdown.png\n",
      "./outputs/plots/05_drawdown_analysis/XEC_drawdown.png\n",
      "./outputs/plots/05_drawdown_analysis/FRAX_drawdown.png\n",
      "./outputs/plots/05_drawdown_analysis/XDC_drawdown.png\n",
      "./outputs/plots/05_drawdown_analysis/CRO_drawdown.png\n",
      "./outputs/plots/05_drawdown_analysis/KCS_drawdown.png\n",
      "./outputs/plots/05_drawdown_analysis/TWT_drawdown.png\n",
      "./outputs/plots/05_drawdown_analysis/BGB_drawdown.png\n",
      "./outputs/plots/05_drawdown_analysis/SAROS_drawdown.png\n",
      "./outputs/plots/05_drawdown_analysis/BTT_drawdown.png\n",
      "./outputs/plots/05_drawdown_analysis/DEXE_drawdown.png\n",
      "./outputs/plots/05_drawdown_analysis/KAVA_drawdown.png\n",
      "./outputs/plots/05_drawdown_analysis/BNB_drawdown.png\n",
      "./outputs/plots/05_drawdown_analysis/WEETH_drawdown.png\n",
      "./outputs/plots/05_drawdown_analysis/CBETH_drawdown.png\n",
      "./outputs/plots/05_drawdown_analysis/ETH_drawdown.png\n",
      "./outputs/plots/05_drawdown_analysis/WBETH_drawdown.png\n",
      "./outputs/plots/05_drawdown_analysis/OHM_drawdown.png\n",
      "./outputs/plots/05_drawdown_analysis/STETH_drawdown.png\n",
      "./outputs/plots/05_drawdown_analysis/METH_drawdown.png\n",
      "./outputs/plots/05_drawdown_analysis/BCH_drawdown.png\n",
      "./outputs/plots/05_drawdown_analysis/FLR_drawdown.png\n",
      "./outputs/plots/05_drawdown_analysis/LSETH_drawdown.png\n",
      "./outputs/plots/05_drawdown_analysis/LTC_drawdown.png\n",
      "./outputs/plots/05_drawdown_analysis/CMETH_drawdown.png\n",
      "./outputs/plots/05_drawdown_analysis/USDX_drawdown.png\n",
      "./outputs/plots/05_drawdown_analysis/AB_drawdown.png\n",
      "./outputs/plots/05_drawdown_analysis/WBT_drawdown.png\n",
      "./outputs/plots/05_drawdown_analysis/TON_drawdown.png\n",
      "./outputs/plots/05_drawdown_analysis/GT_drawdown.png\n",
      "./outputs/plots/05_drawdown_analysis/IP_drawdown.png\n",
      "./outputs/plots/05_drawdown_analysis/OKB_drawdown.png\n",
      "./outputs/plots/05_drawdown_analysis/SUN_drawdown.png\n",
      "./outputs/plots/05_drawdown_analysis/TBTC_drawdown.png\n",
      "./outputs/plots/05_drawdown_analysis/JLP_drawdown.png\n",
      "./outputs/plots/05_drawdown_analysis/BTC_drawdown.png\n",
      "./outputs/plots/05_drawdown_analysis/WBTC_drawdown.png\n",
      "./outputs/plots/05_drawdown_analysis/NEXO_drawdown.png\n",
      "./outputs/plots/05_drawdown_analysis/TRX_drawdown.png\n",
      "./outputs/plots/05_drawdown_analysis/BDX_drawdown.png\n",
      "./outputs/plots/05_drawdown_analysis/NFT_drawdown.png\n",
      "./outputs/plots/05_drawdown_analysis/PAXG_drawdown.png\n",
      "./outputs/plots/05_drawdown_analysis/XAUT_drawdown.png\n",
      "./outputs/plots/05_drawdown_analysis/RON_drawdown.png\n",
      "./outputs/plots/05_drawdown_analysis/LEO_drawdown.png\n",
      "./outputs/plots/05_drawdown_analysis/USDD_drawdown.png\n",
      "./outputs/plots/05_drawdown_analysis/FTN_drawdown.png\n",
      "./outputs/plots/05_drawdown_analysis/USDF_drawdown.png\n",
      "./outputs/plots/05_drawdown_analysis/USD1_drawdown.png\n",
      "./outputs/plots/05_drawdown_analysis/TUSD_drawdown.png\n",
      "./outputs/plots/05_drawdown_analysis/USDE_drawdown.png\n",
      "./outputs/plots/05_drawdown_analysis/PYUSD_drawdown.png\n",
      "./outputs/plots/05_drawdown_analysis/USDY_drawdown.png\n",
      "./outputs/plots/05_drawdown_analysis/FDUSD_drawdown.png\n",
      "./outputs/plots/05_drawdown_analysis/USDT_drawdown.png\n",
      "./outputs/plots/05_drawdown_analysis/WETH_drawdown.png\n",
      "./outputs/plots/05_drawdown_analysis/DAI_drawdown.png\n",
      "./outputs/plots/05_drawdown_analysis/RLUSD_drawdown.png\n",
      "./outputs/plots/05_drawdown_analysis/USDC_drawdown.png\n",
      "./outputs/plots/05_drawdown_analysis/BUSD_drawdown.png\n",
      "Full pipeline completed; all CSVs and plots saved to outputs folder\n"
     ]
    }
   ],
   "source": [
    "if 'close' in df.columns:\n",
    "    # Ensure df_daily exists\n",
    "    if 'df_daily' not in locals():\n",
    "        df_daily = df.set_index('timestamp').groupby('coin').resample('1D')['close'].last().reset_index()\n",
    "        df_daily = df_daily.sort_values(['coin', 'timestamp']).reset_index(drop = True)\n",
    "    dd_records = []\n",
    "    for coin in df_daily['coin'].unique():\n",
    "        s = df_daily[df_daily['coin'] == coin].copy()\n",
    "        s = s.dropna(subset=['close'])\n",
    "        if s.empty:\n",
    "            continue\n",
    "        s['cum_max'] = s['close'].cummax()\n",
    "        s['drawdown'] = (s['close'] - s['cum_max']) / s['cum_max']\n",
    "        if s['drawdown'].isnull().all():\n",
    "            continue\n",
    "        idx_min = s['drawdown'].idxmin()\n",
    "        max_dd = s.loc[idx_min, 'drawdown']\n",
    "        end_date = s.loc[idx_min, 'timestamp']\n",
    "        dd_records.append({'coin': coin, 'max_drawdown': max_dd, 'date_of_max_dd': end_date})\n",
    "    dd_df = pd.DataFrame(dd_records)\n",
    "    csv5 = os.path.join(csv_out, 'max_drawdowns_by_coin.csv')\n",
    "    dd_df.to_csv(csv5, index = False)\n",
    "    print(csv5)\n",
    "    \n",
    "    # Plot worst 6 coins by drawdown\n",
    "    \n",
    "    if not dd_df.empty:\n",
    "        worst = dd_df.sort_values('max_drawdown')['coin'].tolist()\n",
    "        for coin in worst:\n",
    "            s = df_daily[df_daily['coin'] == coin].copy()\n",
    "            s = s.dropna(subset = ['close'])\n",
    "            s['cum_max'] = s['close'].cummax()\n",
    "            s['drawdown'] = (s['close'] - s['cum_max']) / s['cum_max']\n",
    "            plt.figure(figsize = (10,3))\n",
    "            plt.plot(s['timestamp'], s['drawdown'])\n",
    "            plt.title(coin + ' drawdown over time')\n",
    "            plt.xlabel('date')\n",
    "            plt.ylabel('drawdown')\n",
    "            plt.grid(True)\n",
    "            p5 = os.path.join(question_folders['drawdown_analysis'], coin + '_drawdown.png')\n",
    "            plt.savefig(p5, bbox_inches = 'tight')\n",
    "            plt.close()\n",
    "            print(p5)\n",
    "else:\n",
    "    print('Missing close column; skipping drawdown analysis')\n",
    "\n",
    "print('Full pipeline completed; all CSVs and plots saved to outputs folder')"
   ]
  },
  {
   "cell_type": "code",
   "execution_count": 56,
   "id": "7be20ec4-0b58-4c6c-babc-85e43a704fe1",
   "metadata": {},
   "outputs": [
    {
     "name": "stdout",
     "output_type": "stream",
     "text": [
      "Saved cleaned_data_head.csv\n",
      "All analyses completed. Reports and figures saved to current directory.\n"
     ]
    }
   ],
   "source": [
    "# Save cleaned dataframe head for reference\n",
    "df.head().to_csv('cleaned_data_head.csv', index = False)\n",
    "print('Saved cleaned_data_head.csv')\n",
    "\n",
    "print('All analyses completed. Reports and figures saved to current directory.')\n"
   ]
  },
  {
   "cell_type": "code",
   "execution_count": null,
   "id": "ccec604d-2dd0-4b65-8eb8-88160c4383eb",
   "metadata": {},
   "outputs": [],
   "source": []
  }
 ],
 "metadata": {
  "kernelspec": {
   "display_name": "Python 3 (ipykernel)",
   "language": "python",
   "name": "python3"
  },
  "language_info": {
   "codemirror_mode": {
    "name": "ipython",
    "version": 3
   },
   "file_extension": ".py",
   "mimetype": "text/x-python",
   "name": "python",
   "nbconvert_exporter": "python",
   "pygments_lexer": "ipython3",
   "version": "3.13.3"
  }
 },
 "nbformat": 4,
 "nbformat_minor": 5
}
